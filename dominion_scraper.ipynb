{
 "cells": [
  {
   "cell_type": "code",
   "execution_count": 6,
   "metadata": {
    "collapsed": true,
    "jupyter": {
     "outputs_hidden": true
    }
   },
   "outputs": [
    {
     "name": "stdout",
     "output_type": "stream",
     "text": [
      "Collecting selenium\n",
      "  Downloading selenium-3.141.0-py2.py3-none-any.whl (904 kB)\n",
      "\u001b[K     |████████████████████████████████| 904 kB 1.2 MB/s eta 0:00:01\n",
      "\u001b[?25hRequirement already satisfied: urllib3 in /Users/sarasoueidan/opt/anaconda3/lib/python3.7/site-packages (from selenium) (1.24.3)\n",
      "\u001b[31mERROR: Error checking for conflicts.\n",
      "Traceback (most recent call last):\n",
      "  File \"/Users/sarasoueidan/opt/anaconda3/lib/python3.7/site-packages/pip/_vendor/pkg_resources/__init__.py\", line 3021, in _dep_map\n",
      "    return self.__dep_map\n",
      "  File \"/Users/sarasoueidan/opt/anaconda3/lib/python3.7/site-packages/pip/_vendor/pkg_resources/__init__.py\", line 2815, in __getattr__\n",
      "    raise AttributeError(attr)\n",
      "AttributeError: _DistInfoDistribution__dep_map\n",
      "\n",
      "During handling of the above exception, another exception occurred:\n",
      "\n",
      "Traceback (most recent call last):\n",
      "  File \"/Users/sarasoueidan/opt/anaconda3/lib/python3.7/site-packages/pip/_vendor/pkg_resources/__init__.py\", line 3012, in _parsed_pkg_info\n",
      "    return self._pkg_info\n",
      "  File \"/Users/sarasoueidan/opt/anaconda3/lib/python3.7/site-packages/pip/_vendor/pkg_resources/__init__.py\", line 2815, in __getattr__\n",
      "    raise AttributeError(attr)\n",
      "AttributeError: _pkg_info\n",
      "\n",
      "During handling of the above exception, another exception occurred:\n",
      "\n",
      "Traceback (most recent call last):\n",
      "  File \"/Users/sarasoueidan/opt/anaconda3/lib/python3.7/site-packages/pip/_internal/commands/install.py\", line 517, in _warn_about_conflicts\n",
      "    package_set, _dep_info = check_install_conflicts(to_install)\n",
      "  File \"/Users/sarasoueidan/opt/anaconda3/lib/python3.7/site-packages/pip/_internal/operations/check.py\", line 114, in check_install_conflicts\n",
      "    package_set, _ = create_package_set_from_installed()\n",
      "  File \"/Users/sarasoueidan/opt/anaconda3/lib/python3.7/site-packages/pip/_internal/operations/check.py\", line 53, in create_package_set_from_installed\n",
      "    package_set[name] = PackageDetails(dist.version, dist.requires())\n",
      "  File \"/Users/sarasoueidan/opt/anaconda3/lib/python3.7/site-packages/pip/_vendor/pkg_resources/__init__.py\", line 2736, in requires\n",
      "    dm = self._dep_map\n",
      "  File \"/Users/sarasoueidan/opt/anaconda3/lib/python3.7/site-packages/pip/_vendor/pkg_resources/__init__.py\", line 3023, in _dep_map\n",
      "    self.__dep_map = self._compute_dependencies()\n",
      "  File \"/Users/sarasoueidan/opt/anaconda3/lib/python3.7/site-packages/pip/_vendor/pkg_resources/__init__.py\", line 3032, in _compute_dependencies\n",
      "    for req in self._parsed_pkg_info.get_all('Requires-Dist') or []:\n",
      "  File \"/Users/sarasoueidan/opt/anaconda3/lib/python3.7/site-packages/pip/_vendor/pkg_resources/__init__.py\", line 3014, in _parsed_pkg_info\n",
      "    metadata = self.get_metadata(self.PKG_INFO)\n",
      "  File \"/Users/sarasoueidan/opt/anaconda3/lib/python3.7/site-packages/pip/_vendor/pkg_resources/__init__.py\", line 1420, in get_metadata\n",
      "    value = self._get(path)\n",
      "  File \"/Users/sarasoueidan/opt/anaconda3/lib/python3.7/site-packages/pip/_vendor/pkg_resources/__init__.py\", line 1616, in _get\n",
      "    with open(path, 'rb') as stream:\n",
      "FileNotFoundError: [Errno 2] No such file or directory: '/Users/sarasoueidan/opt/anaconda3/lib/python3.7/site-packages/pandas-1.0.3.dist-info/METADATA'\u001b[0m\n",
      "Installing collected packages: selenium\n",
      "Successfully installed selenium-3.141.0\n"
     ]
    }
   ],
   "source": [
    "!pip install selenium"
   ]
  },
  {
   "cell_type": "code",
   "execution_count": 13,
   "metadata": {},
   "outputs": [],
   "source": [
    "import pandas as pd\n",
    "import numpy as np\n",
    "import requests\n",
    "from bs4 import BeautifulSoup\n",
    "from time import sleep"
   ]
  },
  {
   "cell_type": "code",
   "execution_count": 22,
   "metadata": {},
   "outputs": [],
   "source": [
    "url = 'https://outagemap.dominionenergy.com/external/report.html?report=report-panel-county-muni'"
   ]
  },
  {
   "cell_type": "code",
   "execution_count": 30,
   "metadata": {},
   "outputs": [
    {
     "ename": "ValueError",
     "evalue": "No tables found",
     "output_type": "error",
     "traceback": [
      "\u001b[0;31m---------------------------------------------------------------------------\u001b[0m",
      "\u001b[0;31mValueError\u001b[0m                                Traceback (most recent call last)",
      "\u001b[0;32m<ipython-input-30-d21349bd93ac>\u001b[0m in \u001b[0;36m<module>\u001b[0;34m\u001b[0m\n\u001b[0;32m----> 1\u001b[0;31m \u001b[0mcontent\u001b[0m \u001b[0;34m=\u001b[0m \u001b[0mpd\u001b[0m\u001b[0;34m.\u001b[0m\u001b[0mread_html\u001b[0m\u001b[0;34m(\u001b[0m\u001b[0murl\u001b[0m\u001b[0;34m)\u001b[0m\u001b[0;34m\u001b[0m\u001b[0;34m\u001b[0m\u001b[0m\n\u001b[0m",
      "\u001b[0;32m~/opt/anaconda3/lib/python3.7/site-packages/pandas/io/html.py\u001b[0m in \u001b[0;36mread_html\u001b[0;34m(io, match, flavor, header, index_col, skiprows, attrs, parse_dates, thousands, encoding, decimal, converters, na_values, keep_default_na, displayed_only)\u001b[0m\n\u001b[1;32m   1103\u001b[0m         \u001b[0mna_values\u001b[0m\u001b[0;34m=\u001b[0m\u001b[0mna_values\u001b[0m\u001b[0;34m,\u001b[0m\u001b[0;34m\u001b[0m\u001b[0;34m\u001b[0m\u001b[0m\n\u001b[1;32m   1104\u001b[0m         \u001b[0mkeep_default_na\u001b[0m\u001b[0;34m=\u001b[0m\u001b[0mkeep_default_na\u001b[0m\u001b[0;34m,\u001b[0m\u001b[0;34m\u001b[0m\u001b[0;34m\u001b[0m\u001b[0m\n\u001b[0;32m-> 1105\u001b[0;31m         \u001b[0mdisplayed_only\u001b[0m\u001b[0;34m=\u001b[0m\u001b[0mdisplayed_only\u001b[0m\u001b[0;34m,\u001b[0m\u001b[0;34m\u001b[0m\u001b[0;34m\u001b[0m\u001b[0m\n\u001b[0m\u001b[1;32m   1106\u001b[0m     )\n",
      "\u001b[0;32m~/opt/anaconda3/lib/python3.7/site-packages/pandas/io/html.py\u001b[0m in \u001b[0;36m_parse\u001b[0;34m(flavor, io, match, attrs, encoding, displayed_only, **kwargs)\u001b[0m\n\u001b[1;32m    910\u001b[0m             \u001b[0;32mbreak\u001b[0m\u001b[0;34m\u001b[0m\u001b[0;34m\u001b[0m\u001b[0m\n\u001b[1;32m    911\u001b[0m     \u001b[0;32melse\u001b[0m\u001b[0;34m:\u001b[0m\u001b[0;34m\u001b[0m\u001b[0;34m\u001b[0m\u001b[0m\n\u001b[0;32m--> 912\u001b[0;31m         \u001b[0mraise_with_traceback\u001b[0m\u001b[0;34m(\u001b[0m\u001b[0mretained\u001b[0m\u001b[0;34m)\u001b[0m\u001b[0;34m\u001b[0m\u001b[0;34m\u001b[0m\u001b[0m\n\u001b[0m\u001b[1;32m    913\u001b[0m \u001b[0;34m\u001b[0m\u001b[0m\n\u001b[1;32m    914\u001b[0m     \u001b[0mret\u001b[0m \u001b[0;34m=\u001b[0m \u001b[0;34m[\u001b[0m\u001b[0;34m]\u001b[0m\u001b[0;34m\u001b[0m\u001b[0;34m\u001b[0m\u001b[0m\n",
      "\u001b[0;32m~/opt/anaconda3/lib/python3.7/site-packages/pandas/compat/__init__.py\u001b[0m in \u001b[0;36mraise_with_traceback\u001b[0;34m(exc, traceback)\u001b[0m\n\u001b[1;32m     45\u001b[0m     \u001b[0;32mif\u001b[0m \u001b[0mtraceback\u001b[0m \u001b[0;34m==\u001b[0m \u001b[0mEllipsis\u001b[0m\u001b[0;34m:\u001b[0m\u001b[0;34m\u001b[0m\u001b[0;34m\u001b[0m\u001b[0m\n\u001b[1;32m     46\u001b[0m         \u001b[0m_\u001b[0m\u001b[0;34m,\u001b[0m \u001b[0m_\u001b[0m\u001b[0;34m,\u001b[0m \u001b[0mtraceback\u001b[0m \u001b[0;34m=\u001b[0m \u001b[0msys\u001b[0m\u001b[0;34m.\u001b[0m\u001b[0mexc_info\u001b[0m\u001b[0;34m(\u001b[0m\u001b[0;34m)\u001b[0m\u001b[0;34m\u001b[0m\u001b[0;34m\u001b[0m\u001b[0m\n\u001b[0;32m---> 47\u001b[0;31m     \u001b[0;32mraise\u001b[0m \u001b[0mexc\u001b[0m\u001b[0;34m.\u001b[0m\u001b[0mwith_traceback\u001b[0m\u001b[0;34m(\u001b[0m\u001b[0mtraceback\u001b[0m\u001b[0;34m)\u001b[0m\u001b[0;34m\u001b[0m\u001b[0;34m\u001b[0m\u001b[0m\n\u001b[0m\u001b[1;32m     48\u001b[0m \u001b[0;34m\u001b[0m\u001b[0m\n\u001b[1;32m     49\u001b[0m \u001b[0;34m\u001b[0m\u001b[0m\n",
      "\u001b[0;31mValueError\u001b[0m: No tables found"
     ]
    }
   ],
   "source": [
    "content = pd.read_html(url)"
   ]
  },
  {
   "cell_type": "code",
   "execution_count": 23,
   "metadata": {},
   "outputs": [],
   "source": [
    "res = requests.get(url)"
   ]
  },
  {
   "cell_type": "code",
   "execution_count": null,
   "metadata": {},
   "outputs": [],
   "source": []
  },
  {
   "cell_type": "code",
   "execution_count": 28,
   "metadata": {},
   "outputs": [],
   "source": [
    "soup = BeautifulSoup(res.content, 'html')"
   ]
  },
  {
   "cell_type": "code",
   "execution_count": 29,
   "metadata": {},
   "outputs": [
    {
     "data": {
      "text/plain": [
       "<!DOCTYPE html>\n",
       "<html><head><meta content=\"noindex\" name=\"robots\"/><link href=\"/pagedown/favicon.png\" rel=\"shortcut icon\" type=\"image/x-icon\"/><title sc-message=\"page-title-summary\">Outage Summary</title><meta charset=\"utf-8\"/><meta content=\"IE=edge\" http-equiv=\"X-UA-Compatible\"/><meta content=\"width=device-width,user-scalable=no,initial-scale=1,minimum-scale=1,maximum-scale=1\" name=\"viewport\"/><script src=\"//ajax.googleapis.com/ajax/libs/jquery/1.10.2/jquery.min.js\"></script><script src=\"impl/scripts/stormcenter_start_standalone_merged.js\"></script><script>iFactor.checkPageMode(iFactor.urlIntervalGenerationData,null);</script><link href=\"//ajax.googleapis.com/ajax/libs/jqueryui/1.10.3/themes/smoothness/jquery-ui.css\" rel=\"stylesheet\" type=\"text/css\"/><script src=\"//ajax.googleapis.com/ajax/libs/jqueryui/1.10.3/jquery-ui.min.js\"></script><link href=\"impl/css/stormcenter_standalone_merged.css\" rel=\"stylesheet\"/><link href=\"https://fonts.googleapis.com/css?family=Roboto:400,700\" rel=\"stylesheet\" type=\"text/css\"/></head><body class=\"auto-height\"><div id=\"scStorageSpace\">DominionSC4Reports</div><div id=\"scLanguage\">EN-US</div><script>iFactor.getUrlArgument(\"language\")&&document.getElementById(\"scLanguage\")&&(document.getElementById(\"scLanguage\").innerHTML=iFactor.getUrlArgument(\"language\"));</script><div id=\"scCountry\"></div><div id=\"scTimeZone\">America/New_York</div><div id=\"image-preloader\"></div><div id=\"sc-dialog-message\"></div><div id=\"alert-banner\" sc-ga-event=\"Alert Banner\"><div id=\"alert-banner-inner\"><div id=\"alert-banner-content\"></div></div></div><div class=\"report-panel sc-panel\" id=\"report-panel-template\"><div class=\"report-panel-header sc-panel-header\"><a href=\"http://www.dominionenergy.com\" id=\"\" target=\"_blank\" title=\"Dominion\"><button class=\"report-panel-header-title sc-panel-header-title\" sc-message=\"\"></button></a> <a class=\"report-panel-header-close sc-panel-header-close\" sc-message=\"\"><span class=\"sc-panel-return-to-map btn-label\" id=\"report-panel-return-to-map\" sc-message=\"\"></span></a><div class=\"stormRestorationTitle\" id=\"outageSummaryTableTitle\" sc-message=\"\"></div></div><div class=\"report-panel-body sc-panel-body\"><div class=\"report-panel-footer\" id=\"templateTotalsBar\"><div id=\"templateTotalsLeft\"><label class=\"bold\" sc-message=\"total-customers-affected-label\"></label><label class=\"total-customers-affected-value\"></label></div><div id=\"templateTotalsRight\"><label class=\"bold\" sc-message=\"total-customers-served-label\"></label><label class=\"total-customers-served-value\"></label></div><div id=\"templateTotalsMiddle\"></div></div><div class=\"report-panel-description\" sc-message=\"\"></div><div class=\"report-panel-alert-banner\" sc-ga-event=\"Standalone Alert Banner Click\"></div><div class=\"report-panel-data\"></div></div><div class=\"report-panel-footer\"><div class=\"totals-left\"><label class=\"bold\" sc-message=\"last-updated-label\"></label><label class=\"last-updated-value\"></label><label class=\"update-wording-value\"></label></div></div></div><div class=\"report-panel sc-panel\" id=\"report-storm-restoration\"><div class=\"report-panel-header sc-panel-header\"><a href=\"http://www.dominionenergy.com\" id=\"left-report-banner-logo\" target=\"_blank\" title=\"Dominion\"><button class=\"report-panel-header-title sc-panel-header-title\" sc-message=\"\"></button></a> <a class=\"report-panel-header-close sc-panel-header-close\" sc-message=\"\"><span class=\"sc-panel-return-to-map btn-label\" id=\"report-panel-return-to-map\" sc-message=\"\"></span></a><div class=\"stormRestorationTitle\" sc-message=\"\"></div></div><div class=\"report-panel-body sc-panel-body\"><div id=\"stormNameBanner\"></div><div class=\"report-panel-footer\" id=\"totalsBar\"><div class=\"totalSingleLine\"><label class=\"bold\" sc-message=\"total-i-value-label\"></label><label class=\"total-i-value\"></label></div><div class=\"totalSingleLine\"><label class=\"bold\" sc-message=\"total-still-out-value-label\"></label><label class=\"total-still-out-value\"></label></div><div class=\"totalSingleLine\"><label class=\"bold\" sc-message=\"total-percentage-restored-value-label\"></label><label class=\"total-percentage-restored-value\"></label></div><div class=\"totalSingleLine\"><label class=\"bold\" sc-message=\"storm-restoration-start-time-label\"></label><label class=\"storm-restoration-start-time-value\"></label></div></div><div class=\"report-panel-data\" id=\"stormRestorationReportPanel\"></div></div><div class=\"report-panel-footer\"><label class=\"bold\" sc-message=\"last-updated-label\"></label><label class=\"last-updated-value\"></label><label class=\"update-wording-value\"></label></div></div><div id=\"stormRestorationOff\"><img src=\"impl/images/stormrestoration-unavailable-20170424.png\"/><div id=\"report-outage-link-holder\"><a href=\"https://www.dominionenergy.com/outage-center/report-and-check-outages\" style=\"background-color:#2a6ebb;color:#fff;font-weight:700;font-size:8pt;border-radius:8px;padding:.6em 1.2em;width:85px;text-decoration:none;list-style-type:none;font:100% \\'Roboto\\', sans-serif\" title=\"Report/Check Outage\"><span>Report/Check Outage</span></a></div><div id=\"back-to-map-link-holder\"><a href=\"http://outagemap.dominionenergy.com.s3-website-us-east-1.amazonaws.com/external/default.html\" style=\"background-color:#2a6ebb;color:#fff;font-weight:700;font-size:8pt;border-radius:8px;padding:.6em 1.2em;width:85px;text-decoration:none;list-style-type:none;font:100% Roboto,sans-serif\" title=\"Return to Outage Map\"><span>Return to Outage Map</span></a></div></div><div class=\"sc-panel\" id=\"alert-panel\"><div class=\"sc-panel-header\" id=\"alert-panel-header\"><a href=\"http://www.ifactorconsulting.com/\" target=\"_blank\"><button class=\"sc-panel-header-title\" id=\"alert-panel-header-title\" sc-message=\"\"></button></a> <a class=\"sc-panel-header-close\" id=\"alert-panel-header-close\" sc-message=\"\"><span class=\"sc-panel-return-to-map btn-label\" id=\"alert-panel-return-to-report\" sc-message=\"\"></span></a></div><div class=\"sc-panel-body\" id=\"alert-panel-body\"><div id=\"alert-panel-data\"></div></div></div><script src=\"../resources/lib/jQuery/tools/jquery.ui.touch-punch.min.js\"></script><link href=\"../resources/lib/jquery-treegrid-0.3.0/css/jquery.treegrid.css\" rel=\"stylesheet\"/><script src=\"../resources/lib/jquery-treegrid-0.3.0/js/jquery.treegrid.js\" type=\"text/javascript\"></script><script src=\"../resources/lib/moment/2.11.1/moment.min.js\"></script><script src=\"../resources/lib/moment/2.11.1/locale/es.js\"></script><script src=\"../resources/lib/moment/2.11.1/moment-timezone-with-data-2010-2020.js\"></script><script src=\"impl/scripts/stormcenter_product_standalone_merged.js\"></script><script charset=\"ISO-8859-1\" src=\"../resources/ifactor/scripts/IFHelper.messages.js\"></script><script charset=\"ISO-8859-1\" src=\"../resources/ifactor/scripts/IFStormCenter.messages.js\"></script><script charset=\"ISO-8859-1\" src=\"../resources/ifactor/scripts/IFStormCenterUI.messages.js\"></script><script charset=\"ISO-8859-1\" src=\"../resources/ifactor/scripts/IFReports.messages.js\"></script><script src=\"impl/scripts/stormcenter_impl_standalone_merged.js\"></script><script charset=\"ISO-8859-1\" src=\"impl/scripts/IFStormCenterUI.messages.js\"></script><script charset=\"ISO-8859-1\" src=\"impl/scripts/IFStormCenter.messages.js\"></script><script charset=\"ISO-8859-1\" src=\"impl/scripts/IFReports.messages.js\"></script><script charset=\"ISO-8859-1\" src=\"impl/scripts/IFHelper.messages.js\"></script><script src=\"../resources/ifactor/scripts/googleanalytics.js\"></script></body></html>"
      ]
     },
     "execution_count": 29,
     "metadata": {},
     "output_type": "execute_result"
    }
   ],
   "source": [
    "soup"
   ]
  },
  {
   "cell_type": "code",
   "execution_count": 20,
   "metadata": {},
   "outputs": [],
   "source": [
    "tbody = soup.find('tbody')\n",
    "tbody"
   ]
  },
  {
   "cell_type": "code",
   "execution_count": 19,
   "metadata": {},
   "outputs": [
    {
     "ename": "AttributeError",
     "evalue": "'NoneType' object has no attribute 'find_all'",
     "output_type": "error",
     "traceback": [
      "\u001b[0;31m---------------------------------------------------------------------------\u001b[0m",
      "\u001b[0;31mAttributeError\u001b[0m                            Traceback (most recent call last)",
      "\u001b[0;32m<ipython-input-19-637232a85b7c>\u001b[0m in \u001b[0;36m<module>\u001b[0;34m\u001b[0m\n\u001b[1;32m      3\u001b[0m \u001b[0mcounties\u001b[0m \u001b[0;34m=\u001b[0m \u001b[0;34m[\u001b[0m\u001b[0;34m]\u001b[0m\u001b[0;34m\u001b[0m\u001b[0;34m\u001b[0m\u001b[0m\n\u001b[1;32m      4\u001b[0m \u001b[0;34m\u001b[0m\u001b[0m\n\u001b[0;32m----> 5\u001b[0;31m \u001b[0;32mfor\u001b[0m \u001b[0mrow\u001b[0m \u001b[0;32min\u001b[0m \u001b[0mtbody\u001b[0m\u001b[0;34m.\u001b[0m\u001b[0mfind_all\u001b[0m\u001b[0;34m(\u001b[0m\u001b[0;34m'tr'\u001b[0m\u001b[0;34m)\u001b[0m\u001b[0;34m:\u001b[0m\u001b[0;34m\u001b[0m\u001b[0;34m\u001b[0m\u001b[0m\n\u001b[0m\u001b[1;32m      6\u001b[0m     \u001b[0mcounties\u001b[0m\u001b[0;34m.\u001b[0m\u001b[0mappend\u001b[0m\u001b[0;34m(\u001b[0m\u001b[0mrow\u001b[0m\u001b[0;34m)\u001b[0m\u001b[0;34m\u001b[0m\u001b[0;34m\u001b[0m\u001b[0m\n",
      "\u001b[0;31mAttributeError\u001b[0m: 'NoneType' object has no attribute 'find_all'"
     ]
    }
   ],
   "source": [
    "counties = []\n",
    "\n",
    "for row in tbody.find_all('tr'):\n",
    "    counties.append(row)"
   ]
  },
  {
   "cell_type": "code",
   "execution_count": null,
   "metadata": {},
   "outputs": [],
   "source": []
  }
 ],
 "metadata": {
  "kernelspec": {
   "display_name": "Python 3",
   "language": "python",
   "name": "python3"
  },
  "language_info": {
   "codemirror_mode": {
    "name": "ipython",
    "version": 3
   },
   "file_extension": ".py",
   "mimetype": "text/x-python",
   "name": "python",
   "nbconvert_exporter": "python",
   "pygments_lexer": "ipython3",
   "version": "3.7.6"
  }
 },
 "nbformat": 4,
 "nbformat_minor": 4
}
